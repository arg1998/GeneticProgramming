{
 "cells": [
  {
   "cell_type": "markdown",
   "metadata": {},
   "source": [
    "<html>\n",
    "    <body>\n",
    "        <center><img src=\"images/header.jpeg\"/></center>\n",
    "        <center><h1><em><bold>Genetic Programming</bold></em></h1></center>\n",
    "        <center><h3>By Amir Reza Ghorbani</h3></center>\n",
    "        <center><h6>University Of Tehran</h6></center>\n",
    "    </body>\n",
    "</html>\n",
    "        \n",
    "***\n",
    "\n"
   ]
  },
  {
   "cell_type": "markdown",
   "metadata": {},
   "source": [
    "# Defenition \n",
    "Genetic Algorithm (GA) is a metaheuristic inspired by the process of **natural selection (Darwin’s Principle)** that belongs to the larger class of **evolutionary algorithms (EA)**. Genetic algorithms are commonly used to generate high-quality solutions to **optimization** and search problems by relying on bio-inspired operators such as **_mutation_** , **_crossover_** and **_selection_** and in its core, it just apply the **Survival of the fittest** to find solutions.\n",
    "\n",
    "***"
   ]
  },
  {
   "cell_type": "markdown",
   "metadata": {},
   "source": [
    "# A Little Bit of Biology\n",
    "<center><img src=\"images/chromosome.gif\"/></center>\n",
    "**DNA** is made out of two long, twisted strands that contain complementary genetic information. A **Gene** is a segment of DNA that is passed down from parents to children and confers a trait to the offspring. Genes are organized and packaged in units called **“chromosomes”**.\n",
    "\n",
    "***"
   ]
  },
  {
   "cell_type": "markdown",
   "metadata": {},
   "source": [
    "\n",
    "# The Way That GA Works\n",
    "\n",
    "The evolution usually starts from a **population** of randomly generated **individuals**, and is an iterative process, with the population in each iteration called a **generation**. In each generation, the **fitness** of every individual in the population is evaluated; the fitness is usually the value of the objective function in the optimization problem being solved. The more fit individuals are stochastically selected from the current population, and each individual's genome is modified (recombined with **crossover** and possibly random **mutation**) to form a new generation. The new generation of candidate solutions is then used in the next iteration of the algorithm. Commonly, the algorithm terminates when either a **maximum number of generations** has been produced, or a **satisfactory fitness level** has been reached for the population or the considered **time** reaches to end.\n",
    "\n",
    "***\n"
   ]
  },
  {
   "cell_type": "markdown",
   "metadata": {},
   "source": [
    "# Genetic Algorithm Flowchart\n",
    "\n",
    "<html>\n",
    "    <body>\n",
    "        <div style=\"float:left; width:35%;\">\n",
    "            <img src=\"images/flowchart.png\"/>\n",
    "        </div>\n",
    "        <div style=\"float:right; width:65%;\">\n",
    "            <ul>\n",
    "                <li><h3>Initialize Population : </h3></li>\n",
    "                first we need to initialize a set of solution to start with. The population size depends on the nature of the problem, but typically contains several hundreds or thousands of possible solutions. Often, the initial population is generated randomly, allowing the entire range of possible solutions (the search space). Occasionally, the solutions may be \"seeded\" in areas where optimal solutions are likely to be found.\n",
    "                <li><h3>Fitness Evaluation : </h3></li>\n",
    "                we evaluate the solutions (individuals) and rank them among entire population.\n",
    "                basically, fitness is how much close is an individual to the final answer. its optional to set the lowest or the largest fitness to be the best individual in population.\n",
    "                <li><h3>Selection : </h3></li>\n",
    "                During each successive generation, a portion of the existing population is selected to breed a new generation. Individual solutions are selected through a fitness-based process.\n",
    "                <li><h3>Genetic Operators : </h3></li>\n",
    "                Genetic operators are used to create and maintain :<br>\n",
    "                - genetic diversity (mutation operator)<br>\n",
    "                - combine existing solutions (also known as chromosomes) into new solutions (crossover) <br>\n",
    "                - select between solutions (selection)<br>\n",
    "                <li><h3>New Generation : </h3></li>\n",
    "                Producing a new generation with the selected soulutions and applying Genetic Operations to them.\n",
    "                <li><h3>Terminate Condition : </h3></li>\n",
    "                This generational process is repeated until a termination condition has been reached\n",
    "            </ul>\n",
    "        </div>\n",
    "        <div style=\"clear:both;\"></div>\n",
    "    </body>\n",
    "</html>\n",
    "\n",
    "***"
   ]
  },
  {
   "cell_type": "markdown",
   "metadata": {},
   "source": [
    "# Types Of Genetic Programming\n",
    "\n",
    "## Linear GP\n",
    "the solution are linear like models. individuals are represented as a sequence of instructions from imperative  programming language or machine language.problems which can be solved by this type og GP are **Traveling Salesman Problem** and **chromosome String Matching** and etc.\n",
    "\n",
    "\n",
    "## Tree Based GP\n",
    "In this Type, GP evolves computer programs, traditionally represented in memory as tree structures. Trees can be easily evaluated in a recursive manner. Every tree node has an operator **function** and every **terminal** node has an operand, making mathematical expressions easy to evolve and evaluate. Thus traditionally GP favors the use of programming languages that naturally embody tree structures.\n",
    "problems which can be solved by this type og GP are **Equation Finding** and **Santa Fe Ant Trail** and other kind of **Decision Making Systems**.\n",
    "\n",
    "\n",
    "***\n"
   ]
  },
  {
   "cell_type": "markdown",
   "metadata": {},
   "source": []
  },
  {
   "cell_type": "code",
   "execution_count": null,
   "metadata": {},
   "outputs": [],
   "source": []
  }
 ],
 "metadata": {
  "kernelspec": {
   "display_name": "Python 3",
   "language": "python",
   "name": "python3"
  },
  "language_info": {
   "codemirror_mode": {
    "name": "ipython",
    "version": 3
   },
   "file_extension": ".py",
   "mimetype": "text/x-python",
   "name": "python",
   "nbconvert_exporter": "python",
   "pygments_lexer": "ipython3",
   "version": "3.6.4"
  }
 },
 "nbformat": 4,
 "nbformat_minor": 2
}
